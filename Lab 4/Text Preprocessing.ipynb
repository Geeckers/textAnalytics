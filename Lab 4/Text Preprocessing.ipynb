{
 "cells": [
  {
   "cell_type": "code",
   "execution_count": 1,
   "id": "5d9a5c4e",
   "metadata": {},
   "outputs": [],
   "source": [
    "#import pandas module for creating dataframe\n",
    "import pandas as pd"
   ]
  },
  {
   "cell_type": "code",
   "execution_count": 3,
   "id": "8fe1d2cc",
   "metadata": {},
   "outputs": [
    {
     "data": {
      "text/html": [
       "<div>\n",
       "<style scoped>\n",
       "    .dataframe tbody tr th:only-of-type {\n",
       "        vertical-align: middle;\n",
       "    }\n",
       "\n",
       "    .dataframe tbody tr th {\n",
       "        vertical-align: top;\n",
       "    }\n",
       "\n",
       "    .dataframe thead th {\n",
       "        text-align: right;\n",
       "    }\n",
       "</style>\n",
       "<table border=\"1\" class=\"dataframe\">\n",
       "  <thead>\n",
       "    <tr style=\"text-align: right;\">\n",
       "      <th></th>\n",
       "      <th>Review</th>\n",
       "    </tr>\n",
       "  </thead>\n",
       "  <tbody>\n",
       "    <tr>\n",
       "      <th>0</th>\n",
       "      <td>I like this books very much!!! It is VERY INTE...</td>\n",
       "    </tr>\n",
       "    <tr>\n",
       "      <th>1</th>\n",
       "      <td>Do not like this book. so boring 2. Too length...</td>\n",
       "    </tr>\n",
       "  </tbody>\n",
       "</table>\n",
       "</div>"
      ],
      "text/plain": [
       "                                              Review\n",
       "0  I like this books very much!!! It is VERY INTE...\n",
       "1  Do not like this book. so boring 2. Too length..."
      ]
     },
     "execution_count": 3,
     "metadata": {},
     "output_type": "execute_result"
    }
   ],
   "source": [
    "#read CSV into DataFrame\n",
    "data = pd.read_csv(\"Review.csv\")\n",
    "data"
   ]
  },
  {
   "cell_type": "code",
   "execution_count": 4,
   "id": "4ae93bc4",
   "metadata": {},
   "outputs": [],
   "source": [
    "#import string module for string manipulation\n",
    "import string"
   ]
  },
  {
   "cell_type": "code",
   "execution_count": 5,
   "id": "a6a3d174",
   "metadata": {},
   "outputs": [
    {
     "data": {
      "text/plain": [
       "'!\"#$%&\\'()*+,-./:;<=>?@[\\\\]^_`{|}~'"
      ]
     },
     "execution_count": 5,
     "metadata": {},
     "output_type": "execute_result"
    }
   ],
   "source": [
    "#The constant in string module to remove punctuations\n",
    "string.punctuation"
   ]
  },
  {
   "cell_type": "code",
   "execution_count": 6,
   "id": "b658f1a2",
   "metadata": {},
   "outputs": [],
   "source": [
    "#defining the function to remove punctuations in the documents\n",
    "def remove_punctuation(text):\n",
    "    #punctuationfree = \"\".join([i for i in text if i not in string.punctuation])\n",
    "    #return punctuationfree\n",
    "    # Initialize an empty string to store the result\n",
    "    punctuation_free = \"\"\n",
    "    \n",
    "    # Iterate over each character in the text\n",
    "    for i in text:\n",
    "        # Check if the character is not in the string.punctuation set\n",
    "        if i not in string.punctuation:\n",
    "            # If not, add the character to the result string\n",
    "            punctuation_free += i\n",
    "    \n",
    "    return punctuation_free"
   ]
  },
  {
   "cell_type": "code",
   "execution_count": 7,
   "id": "fa9ca14e",
   "metadata": {},
   "outputs": [
    {
     "data": {
      "text/html": [
       "<div>\n",
       "<style scoped>\n",
       "    .dataframe tbody tr th:only-of-type {\n",
       "        vertical-align: middle;\n",
       "    }\n",
       "\n",
       "    .dataframe tbody tr th {\n",
       "        vertical-align: top;\n",
       "    }\n",
       "\n",
       "    .dataframe thead th {\n",
       "        text-align: right;\n",
       "    }\n",
       "</style>\n",
       "<table border=\"1\" class=\"dataframe\">\n",
       "  <thead>\n",
       "    <tr style=\"text-align: right;\">\n",
       "      <th></th>\n",
       "      <th>Review</th>\n",
       "      <th>clean_punctuation</th>\n",
       "    </tr>\n",
       "  </thead>\n",
       "  <tbody>\n",
       "    <tr>\n",
       "      <th>0</th>\n",
       "      <td>I like this books very much!!! It is VERY INTE...</td>\n",
       "      <td>I like this books very much It is VERY INTERES...</td>\n",
       "    </tr>\n",
       "    <tr>\n",
       "      <th>1</th>\n",
       "      <td>Do not like this book. so boring 2. Too length...</td>\n",
       "      <td>Do not like this book so boring 2 Too lengthy</td>\n",
       "    </tr>\n",
       "  </tbody>\n",
       "</table>\n",
       "</div>"
      ],
      "text/plain": [
       "                                              Review  \\\n",
       "0  I like this books very much!!! It is VERY INTE...   \n",
       "1  Do not like this book. so boring 2. Too length...   \n",
       "\n",
       "                                   clean_punctuation  \n",
       "0  I like this books very much It is VERY INTERES...  \n",
       "1     Do not like this book so boring 2 Too lengthy   "
      ]
     },
     "execution_count": 7,
     "metadata": {},
     "output_type": "execute_result"
    }
   ],
   "source": [
    "#applying the remove_punctuation function to the 'Review' column and storing the result in a new column 'clean_punctuation'\n",
    "data['clean_punctuation']= data['Review'].apply(remove_punctuation)\n",
    "data"
   ]
  },
  {
   "cell_type": "code",
   "execution_count": 8,
   "id": "225c31e6",
   "metadata": {},
   "outputs": [
    {
     "data": {
      "text/html": [
       "<div>\n",
       "<style scoped>\n",
       "    .dataframe tbody tr th:only-of-type {\n",
       "        vertical-align: middle;\n",
       "    }\n",
       "\n",
       "    .dataframe tbody tr th {\n",
       "        vertical-align: top;\n",
       "    }\n",
       "\n",
       "    .dataframe thead th {\n",
       "        text-align: right;\n",
       "    }\n",
       "</style>\n",
       "<table border=\"1\" class=\"dataframe\">\n",
       "  <thead>\n",
       "    <tr style=\"text-align: right;\">\n",
       "      <th></th>\n",
       "      <th>Review</th>\n",
       "      <th>clean_punctuation</th>\n",
       "      <th>clean_lower</th>\n",
       "    </tr>\n",
       "  </thead>\n",
       "  <tbody>\n",
       "    <tr>\n",
       "      <th>0</th>\n",
       "      <td>I like this books very much!!! It is VERY INTE...</td>\n",
       "      <td>I like this books very much It is VERY INTERES...</td>\n",
       "      <td>i like this books very much it is very interes...</td>\n",
       "    </tr>\n",
       "    <tr>\n",
       "      <th>1</th>\n",
       "      <td>Do not like this book. so boring 2. Too length...</td>\n",
       "      <td>Do not like this book so boring 2 Too lengthy</td>\n",
       "      <td>do not like this book so boring 2 too lengthy</td>\n",
       "    </tr>\n",
       "  </tbody>\n",
       "</table>\n",
       "</div>"
      ],
      "text/plain": [
       "                                              Review  \\\n",
       "0  I like this books very much!!! It is VERY INTE...   \n",
       "1  Do not like this book. so boring 2. Too length...   \n",
       "\n",
       "                                   clean_punctuation  \\\n",
       "0  I like this books very much It is VERY INTERES...   \n",
       "1     Do not like this book so boring 2 Too lengthy    \n",
       "\n",
       "                                         clean_lower  \n",
       "0  i like this books very much it is very interes...  \n",
       "1     do not like this book so boring 2 too lengthy   "
      ]
     },
     "execution_count": 8,
     "metadata": {},
     "output_type": "execute_result"
    }
   ],
   "source": [
    "#to standardize the cases in the documents into lower case\n",
    "data['clean_lower']= data['clean_punctuation'].str.lower()\n",
    "data"
   ]
  },
  {
   "cell_type": "code",
   "execution_count": 9,
   "id": "4393bd06",
   "metadata": {},
   "outputs": [],
   "source": [
    "#import regular expression library\n",
    "import re"
   ]
  },
  {
   "cell_type": "code",
   "execution_count": 10,
   "id": "f59eeb8f",
   "metadata": {},
   "outputs": [],
   "source": [
    "#function to remove digit (\\d) or hypens (-) from the documents with an empty string ''\n",
    "def remove_numbers(text):\n",
    "    return re.sub(\"[\\d-]\",'',text)"
   ]
  },
  {
   "cell_type": "code",
   "execution_count": 11,
   "id": "dea28f92",
   "metadata": {},
   "outputs": [
    {
     "data": {
      "text/html": [
       "<div>\n",
       "<style scoped>\n",
       "    .dataframe tbody tr th:only-of-type {\n",
       "        vertical-align: middle;\n",
       "    }\n",
       "\n",
       "    .dataframe tbody tr th {\n",
       "        vertical-align: top;\n",
       "    }\n",
       "\n",
       "    .dataframe thead th {\n",
       "        text-align: right;\n",
       "    }\n",
       "</style>\n",
       "<table border=\"1\" class=\"dataframe\">\n",
       "  <thead>\n",
       "    <tr style=\"text-align: right;\">\n",
       "      <th></th>\n",
       "      <th>Review</th>\n",
       "      <th>clean_punctuation</th>\n",
       "      <th>clean_lower</th>\n",
       "      <th>clean_number</th>\n",
       "    </tr>\n",
       "  </thead>\n",
       "  <tbody>\n",
       "    <tr>\n",
       "      <th>0</th>\n",
       "      <td>I like this books very much!!! It is VERY INTE...</td>\n",
       "      <td>I like this books very much It is VERY INTERES...</td>\n",
       "      <td>i like this books very much it is very interes...</td>\n",
       "      <td>i like this books very much it is very interes...</td>\n",
       "    </tr>\n",
       "    <tr>\n",
       "      <th>1</th>\n",
       "      <td>Do not like this book. so boring 2. Too length...</td>\n",
       "      <td>Do not like this book so boring 2 Too lengthy</td>\n",
       "      <td>do not like this book so boring 2 too lengthy</td>\n",
       "      <td>do not like this book so boring  too lengthy</td>\n",
       "    </tr>\n",
       "  </tbody>\n",
       "</table>\n",
       "</div>"
      ],
      "text/plain": [
       "                                              Review  \\\n",
       "0  I like this books very much!!! It is VERY INTE...   \n",
       "1  Do not like this book. so boring 2. Too length...   \n",
       "\n",
       "                                   clean_punctuation  \\\n",
       "0  I like this books very much It is VERY INTERES...   \n",
       "1     Do not like this book so boring 2 Too lengthy    \n",
       "\n",
       "                                         clean_lower  \\\n",
       "0  i like this books very much it is very interes...   \n",
       "1     do not like this book so boring 2 too lengthy    \n",
       "\n",
       "                                        clean_number  \n",
       "0  i like this books very much it is very interes...  \n",
       "1      do not like this book so boring  too lengthy   "
      ]
     },
     "execution_count": 11,
     "metadata": {},
     "output_type": "execute_result"
    }
   ],
   "source": [
    "#applying the remove_numbers function to the 'clean_lower' column and storing the result in a new column 'clean_number'\n",
    "data['clean_number'] = data['clean_lower'].apply(remove_numbers)\n",
    "data"
   ]
  },
  {
   "cell_type": "code",
   "execution_count": null,
   "id": "78b10e7e",
   "metadata": {},
   "outputs": [],
   "source": []
  }
 ],
 "metadata": {
  "kernelspec": {
   "display_name": "Python 3 (ipykernel)",
   "language": "python",
   "name": "python3"
  },
  "language_info": {
   "codemirror_mode": {
    "name": "ipython",
    "version": 3
   },
   "file_extension": ".py",
   "mimetype": "text/x-python",
   "name": "python",
   "nbconvert_exporter": "python",
   "pygments_lexer": "ipython3",
   "version": "3.11.5"
  }
 },
 "nbformat": 4,
 "nbformat_minor": 5
}
