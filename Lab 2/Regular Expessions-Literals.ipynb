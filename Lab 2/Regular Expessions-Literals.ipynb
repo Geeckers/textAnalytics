{
 "cells": [
  {
   "cell_type": "code",
   "execution_count": 2,
   "id": "399835fe",
   "metadata": {},
   "outputs": [],
   "source": [
    "#importing regular expression library \n",
    "import re "
   ]
  },
  {
   "cell_type": "code",
   "execution_count": 3,
   "id": "7305dc2f",
   "metadata": {},
   "outputs": [
    {
     "name": "stdout",
     "output_type": "stream",
     "text": [
      "<re.Match object; span=(0, 1), match='I'>\n"
     ]
    }
   ],
   "source": [
    "#using re.match \n",
    "#to find the first occurrence of the letter 'I' in the string \n",
    " \n",
    "sentence1 = re.match (r'I', 'I am learning text analytics') \n",
    "print (sentence1) "
   ]
  },
  {
   "cell_type": "code",
   "execution_count": 4,
   "id": "7602558c",
   "metadata": {},
   "outputs": [
    {
     "name": "stdout",
     "output_type": "stream",
     "text": [
      "None\n"
     ]
    }
   ],
   "source": [
    "#using re.match \n",
    "#to find the first occurrence of the letter 'v' in the string \n",
    " \n",
    "sentence2 = re.match (r'v', 'I am learning text analytics') \n",
    "print (sentence2) "
   ]
  },
  {
   "cell_type": "code",
   "execution_count": 5,
   "id": "9a2d0c8b",
   "metadata": {},
   "outputs": [
    {
     "name": "stdout",
     "output_type": "stream",
     "text": [
      "None\n"
     ]
    }
   ],
   "source": [
    "#using re.match \n",
    "#to find the first occurrence of the letter 'am' in the string \n",
    " \n",
    "sentence3 = re.match (r'am', 'I am learning text analytics') \n",
    "print (sentence3) "
   ]
  },
  {
   "cell_type": "code",
   "execution_count": 7,
   "id": "b1ab56ff",
   "metadata": {},
   "outputs": [
    {
     "name": "stdout",
     "output_type": "stream",
     "text": [
      "<re.Match object; span=(2, 4), match='am'>\n"
     ]
    }
   ],
   "source": [
    "sentence4 = re.search(r'am', 'I am learning text analytics')  \n",
    "print (sentence4)  "
   ]
  },
  {
   "cell_type": "code",
   "execution_count": 8,
   "id": "20442cd4",
   "metadata": {},
   "outputs": [
    {
     "name": "stdout",
     "output_type": "stream",
     "text": [
      "<re.Match object; span=(2, 4), match='am'>\n"
     ]
    }
   ],
   "source": [
    "sentence5 = re.search(r'am', 'I am learning text analytics and am enjoying it')  \n",
    "print (sentence5)  "
   ]
  },
  {
   "cell_type": "code",
   "execution_count": 9,
   "id": "eca8f093",
   "metadata": {},
   "outputs": [
    {
     "name": "stdout",
     "output_type": "stream",
     "text": [
      "['am', 'am']\n"
     ]
    }
   ],
   "source": [
    "sentence6 = re.findall(r'am', 'I am learning text analytics and am enjoying it')  \n",
    "print (sentence6)  \n"
   ]
  },
  {
   "cell_type": "code",
   "execution_count": 10,
   "id": "580e7803",
   "metadata": {},
   "outputs": [
    {
     "name": "stdout",
     "output_type": "stream",
     "text": [
      "['I am learning text analytics ', ' am enjoying it']\n"
     ]
    }
   ],
   "source": [
    "sentence7 = re.split(r'and', 'I am learning text analytics and am enjoying it')  \n",
    "print (sentence7)  "
   ]
  },
  {
   "cell_type": "code",
   "execution_count": 11,
   "id": "d9784218",
   "metadata": {},
   "outputs": [
    {
     "name": "stdout",
     "output_type": "stream",
     "text": [
      "['I ', ' learning text analytics and ', ' enjoying it']\n"
     ]
    }
   ],
   "source": [
    "sentence8 = re.split(r'am', 'I am learning text analytics and am enjoying it')  \n",
    "print (sentence8)  "
   ]
  },
  {
   "cell_type": "code",
   "execution_count": 12,
   "id": "90f06688",
   "metadata": {},
   "outputs": [
    {
     "name": "stdout",
     "output_type": "stream",
     "text": [
      "['I ', ' learning text analytics and am enjoying it']\n"
     ]
    }
   ],
   "source": [
    "sentence9 = re.split(r'am', 'I am learning text analytics and am enjoying it', maxsplit=1) \n",
    "print (sentence9)  "
   ]
  },
  {
   "cell_type": "code",
   "execution_count": 13,
   "id": "14e6743c",
   "metadata": {},
   "outputs": [
    {
     "name": "stdout",
     "output_type": "stream",
     "text": [
      "['I ', ' learning text analytics and ', ' enjoying it']\n"
     ]
    }
   ],
   "source": [
    "sentence9 = re.split(r'am', 'I am learning text analytics and am enjoying it', maxsplit=2) \n",
    "print (sentence9)  "
   ]
  },
  {
   "cell_type": "code",
   "execution_count": 14,
   "id": "7e1e537f",
   "metadata": {},
   "outputs": [
    {
     "name": "stdout",
     "output_type": "stream",
     "text": [
      "['I ', ' learning text analytics, I ', ' enjoying it and I ', ' going to ace it']\n"
     ]
    }
   ],
   "source": [
    "sentence10 = re.split(r'am', 'I am learning text analytics, I am enjoying it and I am going to ace it', maxsplit=3) \n",
    "print (sentence10)  "
   ]
  },
  {
   "cell_type": "code",
   "execution_count": 15,
   "id": "f815971e",
   "metadata": {},
   "outputs": [
    {
     "name": "stdout",
     "output_type": "stream",
     "text": [
      "we like text analytics and we enjoy learning it\n"
     ]
    }
   ],
   "source": [
    "sentence11 = re.sub(r'I', 'we', 'I like text analytics and I enjoy learning it') \n",
    "print (sentence11)  "
   ]
  },
  {
   "cell_type": "code",
   "execution_count": null,
   "id": "a896347e",
   "metadata": {},
   "outputs": [],
   "source": []
  }
 ],
 "metadata": {
  "kernelspec": {
   "display_name": "Python 3 (ipykernel)",
   "language": "python",
   "name": "python3"
  },
  "language_info": {
   "codemirror_mode": {
    "name": "ipython",
    "version": 3
   },
   "file_extension": ".py",
   "mimetype": "text/x-python",
   "name": "python",
   "nbconvert_exporter": "python",
   "pygments_lexer": "ipython3",
   "version": "3.11.5"
  }
 },
 "nbformat": 4,
 "nbformat_minor": 5
}
