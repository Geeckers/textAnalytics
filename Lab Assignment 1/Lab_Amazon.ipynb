{
 "cells": [
  {
   "cell_type": "code",
   "execution_count": 1,
   "id": "fe27ae82",
   "metadata": {},
   "outputs": [],
   "source": [
    "#group members:\n",
    "#Dayang Nurin Syazwina (IS01081494)\n",
    "#Lina Batrisyia (IS01081499)\n",
    "\n",
    "\n",
    "import requests\n",
    "from bs4 import BeautifulSoup\n",
    "import csv\n",
    "\n",
    "def scrapeAmazon(url, pages=5):\n",
    "    headers = {\n",
    "        \"User-Agent\": \"Mozilla/5.0 (Windows NT 10.0; Win64; x64) AppleWebKit/537.36 (KHTML, like Gecko) Chrome/91.0.4472.124 Safari/537.36\"\n",
    "    }\n",
    "    \n",
    "    with open('reviewAmazon.csv', 'w', newline='', encoding='utf-8') as csvfile:\n",
    "        fieldnames = ['Name', 'Date', 'Content']\n",
    "        writer = csv.DictWriter(csvfile, fieldnames=fieldnames)\n",
    "        writer.writeheader()\n",
    "        \n",
    "        for page in range(1, pages+1):\n",
    "            page_url = url + '/ref=cm_cr_arp_d_paging_btm_next_2?pageNumber=' + str(page)\n",
    "            response = requests.get(page_url, headers=headers)\n",
    "            soup = BeautifulSoup(response.text, 'html.parser')\n",
    "            review_containers = soup.find_all('div', {'data-hook': 'review'})\n",
    "            \n",
    "            for review in review_containers:\n",
    "                name = review.find('span', {'class': 'a-profile-name'}).text.strip()\n",
    "                date = review.find('span', {'data-hook': 'review-date'}).text.strip()\n",
    "                content = review.find('span', {'data-hook': 'review-body'}).text.strip()\n",
    "                \n",
    "                writer.writerow({'Name': name, 'Date': date, 'Content': content})\n",
    "\n",
    "# Example usage:\n",
    "url = \"https://www.amazon.com/sspa/click?ie=UTF8&spc=MTo3MzY3NTE4Njk5ODYyMDgwOjE3MTEwMDYzODA6c3BfYXRmOjMwMDA4MTM1NDQ1NzMwMjo6MDo6&url=%2FSony-WH-CH720N-Canceling-Headphones-Microphone%2Fdp%2FB0BS1QCFHX%2Fref%3Dsr_1_1_sspa%3Fcrid%3DQ66B0BWNBN5X%26dib%3DeyJ2IjoiMSJ9.a2_mDyjbPNUHYravmtCRYHTkazTh_Z-BF6FYB_tvU4qN4u2NSc1E1-nUeDdfrH2ubXIwEABZwdAw3oxdswFRAPdsTlBR-7FJ_9NYkLSPJB1wRq4Ld83SGckRyOFMnyve1TwHYME-eIRbJWN7xcxDf4FlgmrT-rcYIXGomtDzQ2_AuNCDyH7AhkCI-hQmih9eX3K_l53sYIfo8HcMxNyvMwLCxtISbcWlXtkSZVNRcJ4.iAJW5aDH_sLuf71YgfPXru4itYZMuQ6ZvJiXVUFEzik%26dib_tag%3Dse%26keywords%3Dwireless%2Bheadphones%26qid%3D1711006380%26sprefix%3Dwir%252Caps%252C457%26sr%3D8-1-spons%26sp_csd%3Dd2lkZ2V0TmFtZT1zcF9hdGY%26psc%3D1\"\n",
    "scrapeAmazon(url, pages=5)\n"
   ]
  },
  {
   "cell_type": "code",
   "execution_count": null,
   "id": "1f318da9",
   "metadata": {},
   "outputs": [],
   "source": []
  }
 ],
 "metadata": {
  "kernelspec": {
   "display_name": "Python 3 (ipykernel)",
   "language": "python",
   "name": "python3"
  },
  "language_info": {
   "codemirror_mode": {
    "name": "ipython",
    "version": 3
   },
   "file_extension": ".py",
   "mimetype": "text/x-python",
   "name": "python",
   "nbconvert_exporter": "python",
   "pygments_lexer": "ipython3",
   "version": "3.11.5"
  }
 },
 "nbformat": 4,
 "nbformat_minor": 5
}
